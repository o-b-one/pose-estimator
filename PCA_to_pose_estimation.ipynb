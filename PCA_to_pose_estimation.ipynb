{
  "nbformat": 4,
  "nbformat_minor": 0,
  "metadata": {
    "colab": {
      "name": "PCA to pose estimation",
      "provenance": [],
      "include_colab_link": true
    },
    "kernelspec": {
      "name": "python3",
      "display_name": "Python 3"
    },
    "language_info": {
      "name": "python"
    }
  },
  "cells": [
    {
      "cell_type": "markdown",
      "metadata": {
        "id": "view-in-github",
        "colab_type": "text"
      },
      "source": [
        "<a href=\"https://colab.research.google.com/github/o-b-one/pose-estimator/blob/master/PCA_to_pose_estimation.ipynb\" target=\"_parent\"><img src=\"https://colab.research.google.com/assets/colab-badge.svg\" alt=\"Open In Colab\"/></a>"
      ]
    },
    {
      "cell_type": "code",
      "metadata": {
        "id": "fNCpmN-7Pyve"
      },
      "source": [
        "import pandas as pd\n",
        "import plotly.express as px\n",
        "import matplotlib.pyplot as plt"
      ],
      "execution_count": null,
      "outputs": []
    },
    {
      "cell_type": "code",
      "metadata": {
        "id": "ac0sZKSWQK2g"
      },
      "source": [
        "url = 'https://raw.githubusercontent.com/o-b-one/pose-estimator/master/trainer/dataset/pose.csv'\n",
        "df = pd.read_csv(url)"
      ],
      "execution_count": null,
      "outputs": []
    },
    {
      "cell_type": "code",
      "metadata": {
        "colab": {
          "base_uri": "https://localhost:8080/",
          "height": 226
        },
        "id": "6ZXpobydQjPx",
        "outputId": "c0e468c9-ae88-4753-b8bb-f72b318fd563"
      },
      "source": [
        "df.head()"
      ],
      "execution_count": null,
      "outputs": [
        {
          "output_type": "execute_result",
          "data": {
            "text/html": [
              "<div>\n",
              "<style scoped>\n",
              "    .dataframe tbody tr th:only-of-type {\n",
              "        vertical-align: middle;\n",
              "    }\n",
              "\n",
              "    .dataframe tbody tr th {\n",
              "        vertical-align: top;\n",
              "    }\n",
              "\n",
              "    .dataframe thead th {\n",
              "        text-align: right;\n",
              "    }\n",
              "</style>\n",
              "<table border=\"1\" class=\"dataframe\">\n",
              "  <thead>\n",
              "    <tr style=\"text-align: right;\">\n",
              "      <th></th>\n",
              "      <th>leftArmpitAngle</th>\n",
              "      <th>rightArmpitAngle</th>\n",
              "      <th>leftShoulderAngle</th>\n",
              "      <th>rightShoulderAngle</th>\n",
              "      <th>leftElbowAngle</th>\n",
              "      <th>rightElbowAngle</th>\n",
              "      <th>leftHipAngle</th>\n",
              "      <th>rightHipAngle</th>\n",
              "      <th>leftGroinAngle</th>\n",
              "      <th>rightGroinAngle</th>\n",
              "      <th>leftKneeAngle</th>\n",
              "      <th>rightKneeAngle</th>\n",
              "      <th>slope</th>\n",
              "      <th>verticalPose</th>\n",
              "      <th>ratioAvg</th>\n",
              "      <th>action</th>\n",
              "    </tr>\n",
              "  </thead>\n",
              "  <tbody>\n",
              "    <tr>\n",
              "      <th>0</th>\n",
              "      <td>12.72</td>\n",
              "      <td>22.83</td>\n",
              "      <td>12.72</td>\n",
              "      <td>22.83</td>\n",
              "      <td>153.05</td>\n",
              "      <td>11.32</td>\n",
              "      <td>89.46</td>\n",
              "      <td>102.46</td>\n",
              "      <td>89.46</td>\n",
              "      <td>102.46</td>\n",
              "      <td>174.11</td>\n",
              "      <td>145.50</td>\n",
              "      <td>2.471433</td>\n",
              "      <td>1000</td>\n",
              "      <td>1.064219</td>\n",
              "      <td>squat</td>\n",
              "    </tr>\n",
              "    <tr>\n",
              "      <th>1</th>\n",
              "      <td>22.91</td>\n",
              "      <td>15.25</td>\n",
              "      <td>22.91</td>\n",
              "      <td>15.25</td>\n",
              "      <td>162.63</td>\n",
              "      <td>0.67</td>\n",
              "      <td>82.01</td>\n",
              "      <td>107.70</td>\n",
              "      <td>82.01</td>\n",
              "      <td>107.70</td>\n",
              "      <td>174.83</td>\n",
              "      <td>176.91</td>\n",
              "      <td>3.668098</td>\n",
              "      <td>1000</td>\n",
              "      <td>1.264706</td>\n",
              "      <td>squat</td>\n",
              "    </tr>\n",
              "    <tr>\n",
              "      <th>2</th>\n",
              "      <td>17.14</td>\n",
              "      <td>12.68</td>\n",
              "      <td>17.14</td>\n",
              "      <td>12.68</td>\n",
              "      <td>173.05</td>\n",
              "      <td>19.03</td>\n",
              "      <td>76.20</td>\n",
              "      <td>116.04</td>\n",
              "      <td>76.20</td>\n",
              "      <td>116.04</td>\n",
              "      <td>179.54</td>\n",
              "      <td>175.10</td>\n",
              "      <td>3.776714</td>\n",
              "      <td>1000</td>\n",
              "      <td>1.340035</td>\n",
              "      <td>squat</td>\n",
              "    </tr>\n",
              "    <tr>\n",
              "      <th>3</th>\n",
              "      <td>18.40</td>\n",
              "      <td>3.64</td>\n",
              "      <td>18.40</td>\n",
              "      <td>3.64</td>\n",
              "      <td>171.86</td>\n",
              "      <td>23.88</td>\n",
              "      <td>100.09</td>\n",
              "      <td>92.20</td>\n",
              "      <td>100.09</td>\n",
              "      <td>92.20</td>\n",
              "      <td>168.93</td>\n",
              "      <td>173.31</td>\n",
              "      <td>3.673570</td>\n",
              "      <td>1000</td>\n",
              "      <td>1.150195</td>\n",
              "      <td>squat</td>\n",
              "    </tr>\n",
              "    <tr>\n",
              "      <th>4</th>\n",
              "      <td>21.68</td>\n",
              "      <td>4.56</td>\n",
              "      <td>21.68</td>\n",
              "      <td>4.56</td>\n",
              "      <td>165.21</td>\n",
              "      <td>161.69</td>\n",
              "      <td>94.76</td>\n",
              "      <td>98.14</td>\n",
              "      <td>94.76</td>\n",
              "      <td>98.14</td>\n",
              "      <td>168.46</td>\n",
              "      <td>171.12</td>\n",
              "      <td>3.602890</td>\n",
              "      <td>1000</td>\n",
              "      <td>1.161230</td>\n",
              "      <td>squat</td>\n",
              "    </tr>\n",
              "  </tbody>\n",
              "</table>\n",
              "</div>"
            ],
            "text/plain": [
              "   leftArmpitAngle  rightArmpitAngle  ...  ratioAvg  action\n",
              "0            12.72             22.83  ...  1.064219   squat\n",
              "1            22.91             15.25  ...  1.264706   squat\n",
              "2            17.14             12.68  ...  1.340035   squat\n",
              "3            18.40              3.64  ...  1.150195   squat\n",
              "4            21.68              4.56  ...  1.161230   squat\n",
              "\n",
              "[5 rows x 16 columns]"
            ]
          },
          "metadata": {
            "tags": []
          },
          "execution_count": 3
        }
      ]
    },
    {
      "cell_type": "code",
      "metadata": {
        "colab": {
          "base_uri": "https://localhost:8080/"
        },
        "id": "QtkdqRTvQnno",
        "outputId": "ec050a2f-5b58-42c3-e468-e222aeae71b9"
      },
      "source": [
        "df.shape"
      ],
      "execution_count": null,
      "outputs": [
        {
          "output_type": "execute_result",
          "data": {
            "text/plain": [
              "(463, 16)"
            ]
          },
          "metadata": {
            "tags": []
          },
          "execution_count": 4
        }
      ]
    },
    {
      "cell_type": "code",
      "metadata": {
        "id": "lTpozpiSQq1D"
      },
      "source": [
        "df_for_pca = df.drop([\"verticalPose\", \"ratioAvg\",\t\"action\"], axis=1)\n",
        "action = list(df[\"action\"])"
      ],
      "execution_count": null,
      "outputs": []
    },
    {
      "cell_type": "code",
      "metadata": {
        "colab": {
          "base_uri": "https://localhost:8080/",
          "height": 226
        },
        "id": "LNVFVM9AeMf4",
        "outputId": "95ee54a5-5163-4ccf-889f-3bf9195502e8"
      },
      "source": [
        "df_for_pca.head()"
      ],
      "execution_count": null,
      "outputs": [
        {
          "output_type": "execute_result",
          "data": {
            "text/html": [
              "<div>\n",
              "<style scoped>\n",
              "    .dataframe tbody tr th:only-of-type {\n",
              "        vertical-align: middle;\n",
              "    }\n",
              "\n",
              "    .dataframe tbody tr th {\n",
              "        vertical-align: top;\n",
              "    }\n",
              "\n",
              "    .dataframe thead th {\n",
              "        text-align: right;\n",
              "    }\n",
              "</style>\n",
              "<table border=\"1\" class=\"dataframe\">\n",
              "  <thead>\n",
              "    <tr style=\"text-align: right;\">\n",
              "      <th></th>\n",
              "      <th>leftArmpitAngle</th>\n",
              "      <th>rightArmpitAngle</th>\n",
              "      <th>leftShoulderAngle</th>\n",
              "      <th>rightShoulderAngle</th>\n",
              "      <th>leftElbowAngle</th>\n",
              "      <th>rightElbowAngle</th>\n",
              "      <th>leftHipAngle</th>\n",
              "      <th>rightHipAngle</th>\n",
              "      <th>leftGroinAngle</th>\n",
              "      <th>rightGroinAngle</th>\n",
              "      <th>leftKneeAngle</th>\n",
              "      <th>rightKneeAngle</th>\n",
              "      <th>slope</th>\n",
              "    </tr>\n",
              "  </thead>\n",
              "  <tbody>\n",
              "    <tr>\n",
              "      <th>0</th>\n",
              "      <td>12.72</td>\n",
              "      <td>22.83</td>\n",
              "      <td>12.72</td>\n",
              "      <td>22.83</td>\n",
              "      <td>153.05</td>\n",
              "      <td>11.32</td>\n",
              "      <td>89.46</td>\n",
              "      <td>102.46</td>\n",
              "      <td>89.46</td>\n",
              "      <td>102.46</td>\n",
              "      <td>174.11</td>\n",
              "      <td>145.50</td>\n",
              "      <td>2.471433</td>\n",
              "    </tr>\n",
              "    <tr>\n",
              "      <th>1</th>\n",
              "      <td>22.91</td>\n",
              "      <td>15.25</td>\n",
              "      <td>22.91</td>\n",
              "      <td>15.25</td>\n",
              "      <td>162.63</td>\n",
              "      <td>0.67</td>\n",
              "      <td>82.01</td>\n",
              "      <td>107.70</td>\n",
              "      <td>82.01</td>\n",
              "      <td>107.70</td>\n",
              "      <td>174.83</td>\n",
              "      <td>176.91</td>\n",
              "      <td>3.668098</td>\n",
              "    </tr>\n",
              "    <tr>\n",
              "      <th>2</th>\n",
              "      <td>17.14</td>\n",
              "      <td>12.68</td>\n",
              "      <td>17.14</td>\n",
              "      <td>12.68</td>\n",
              "      <td>173.05</td>\n",
              "      <td>19.03</td>\n",
              "      <td>76.20</td>\n",
              "      <td>116.04</td>\n",
              "      <td>76.20</td>\n",
              "      <td>116.04</td>\n",
              "      <td>179.54</td>\n",
              "      <td>175.10</td>\n",
              "      <td>3.776714</td>\n",
              "    </tr>\n",
              "    <tr>\n",
              "      <th>3</th>\n",
              "      <td>18.40</td>\n",
              "      <td>3.64</td>\n",
              "      <td>18.40</td>\n",
              "      <td>3.64</td>\n",
              "      <td>171.86</td>\n",
              "      <td>23.88</td>\n",
              "      <td>100.09</td>\n",
              "      <td>92.20</td>\n",
              "      <td>100.09</td>\n",
              "      <td>92.20</td>\n",
              "      <td>168.93</td>\n",
              "      <td>173.31</td>\n",
              "      <td>3.673570</td>\n",
              "    </tr>\n",
              "    <tr>\n",
              "      <th>4</th>\n",
              "      <td>21.68</td>\n",
              "      <td>4.56</td>\n",
              "      <td>21.68</td>\n",
              "      <td>4.56</td>\n",
              "      <td>165.21</td>\n",
              "      <td>161.69</td>\n",
              "      <td>94.76</td>\n",
              "      <td>98.14</td>\n",
              "      <td>94.76</td>\n",
              "      <td>98.14</td>\n",
              "      <td>168.46</td>\n",
              "      <td>171.12</td>\n",
              "      <td>3.602890</td>\n",
              "    </tr>\n",
              "  </tbody>\n",
              "</table>\n",
              "</div>"
            ],
            "text/plain": [
              "   leftArmpitAngle  rightArmpitAngle  ...  rightKneeAngle     slope\n",
              "0            12.72             22.83  ...          145.50  2.471433\n",
              "1            22.91             15.25  ...          176.91  3.668098\n",
              "2            17.14             12.68  ...          175.10  3.776714\n",
              "3            18.40              3.64  ...          173.31  3.673570\n",
              "4            21.68              4.56  ...          171.12  3.602890\n",
              "\n",
              "[5 rows x 13 columns]"
            ]
          },
          "metadata": {
            "tags": []
          },
          "execution_count": 6
        }
      ]
    },
    {
      "cell_type": "code",
      "metadata": {
        "colab": {
          "base_uri": "https://localhost:8080/"
        },
        "id": "6ylR4s_GeQxF",
        "outputId": "c1bf4f53-7d28-4a23-8030-85d493d9d49d"
      },
      "source": [
        "# are there duplicated rows?\n",
        "\n",
        "# sum(list(df_for_pca.duplicated()))\n",
        "dup = df_for_pca.duplicated()\n",
        "\n",
        "dup.where(lambda x: x == True).dropna()\n"
      ],
      "execution_count": null,
      "outputs": [
        {
          "output_type": "execute_result",
          "data": {
            "text/plain": [
              "38    1.0\n",
              "39    1.0\n",
              "40    1.0\n",
              "41    1.0\n",
              "42    1.0\n",
              "43    1.0\n",
              "44    1.0\n",
              "45    1.0\n",
              "46    1.0\n",
              "47    1.0\n",
              "48    1.0\n",
              "49    1.0\n",
              "50    1.0\n",
              "51    1.0\n",
              "52    1.0\n",
              "53    1.0\n",
              "54    1.0\n",
              "55    1.0\n",
              "56    1.0\n",
              "57    1.0\n",
              "58    1.0\n",
              "59    1.0\n",
              "60    1.0\n",
              "61    1.0\n",
              "62    1.0\n",
              "63    1.0\n",
              "64    1.0\n",
              "65    1.0\n",
              "66    1.0\n",
              "67    1.0\n",
              "68    1.0\n",
              "69    1.0\n",
              "70    1.0\n",
              "71    1.0\n",
              "72    1.0\n",
              "73    1.0\n",
              "74    1.0\n",
              "75    1.0\n",
              "dtype: float64"
            ]
          },
          "metadata": {
            "tags": []
          },
          "execution_count": 7
        }
      ]
    },
    {
      "cell_type": "code",
      "metadata": {
        "id": "AnE92ywkRGiX"
      },
      "source": [
        "from sklearn.decomposition import PCA\n",
        "pca = PCA(n_components=2)\n",
        "principalComponents = pca.fit_transform(df_for_pca)\n",
        "principalDf = pd.DataFrame(data = principalComponents\n",
        "             , columns = ['principal component 1', 'principal component 2'])"
      ],
      "execution_count": null,
      "outputs": []
    },
    {
      "cell_type": "code",
      "metadata": {
        "id": "qIqXJFaVSO91"
      },
      "source": [
        "finalDf = pd.concat([principalDf, df[['action']]], axis = 1)"
      ],
      "execution_count": null,
      "outputs": []
    },
    {
      "cell_type": "code",
      "metadata": {
        "colab": {
          "base_uri": "https://localhost:8080/",
          "height": 206
        },
        "id": "BTJx2PvdST_y",
        "outputId": "47680e11-6585-4ede-f55a-8d9e43acc250"
      },
      "source": [
        "finalDf.head()  "
      ],
      "execution_count": null,
      "outputs": [
        {
          "output_type": "execute_result",
          "data": {
            "text/html": [
              "<div>\n",
              "<style scoped>\n",
              "    .dataframe tbody tr th:only-of-type {\n",
              "        vertical-align: middle;\n",
              "    }\n",
              "\n",
              "    .dataframe tbody tr th {\n",
              "        vertical-align: top;\n",
              "    }\n",
              "\n",
              "    .dataframe thead th {\n",
              "        text-align: right;\n",
              "    }\n",
              "</style>\n",
              "<table border=\"1\" class=\"dataframe\">\n",
              "  <thead>\n",
              "    <tr style=\"text-align: right;\">\n",
              "      <th></th>\n",
              "      <th>principal component 1</th>\n",
              "      <th>principal component 2</th>\n",
              "      <th>action</th>\n",
              "    </tr>\n",
              "  </thead>\n",
              "  <tbody>\n",
              "    <tr>\n",
              "      <th>0</th>\n",
              "      <td>-100.169873</td>\n",
              "      <td>62.842851</td>\n",
              "      <td>squat</td>\n",
              "    </tr>\n",
              "    <tr>\n",
              "      <th>1</th>\n",
              "      <td>-99.775190</td>\n",
              "      <td>62.816744</td>\n",
              "      <td>squat</td>\n",
              "    </tr>\n",
              "    <tr>\n",
              "      <th>2</th>\n",
              "      <td>-94.983873</td>\n",
              "      <td>84.436024</td>\n",
              "      <td>squat</td>\n",
              "    </tr>\n",
              "    <tr>\n",
              "      <th>3</th>\n",
              "      <td>-98.210575</td>\n",
              "      <td>86.792090</td>\n",
              "      <td>squat</td>\n",
              "    </tr>\n",
              "    <tr>\n",
              "      <th>4</th>\n",
              "      <td>-36.246644</td>\n",
              "      <td>148.057059</td>\n",
              "      <td>squat</td>\n",
              "    </tr>\n",
              "  </tbody>\n",
              "</table>\n",
              "</div>"
            ],
            "text/plain": [
              "   principal component 1  principal component 2 action\n",
              "0            -100.169873              62.842851  squat\n",
              "1             -99.775190              62.816744  squat\n",
              "2             -94.983873              84.436024  squat\n",
              "3             -98.210575              86.792090  squat\n",
              "4             -36.246644             148.057059  squat"
            ]
          },
          "metadata": {
            "tags": []
          },
          "execution_count": 10
        }
      ]
    },
    {
      "cell_type": "code",
      "metadata": {
        "colab": {
          "base_uri": "https://localhost:8080/"
        },
        "id": "qsIXF9LZZCwN",
        "outputId": "c6fdfb94-cf3d-4d05-de9b-5ee93d0d52df"
      },
      "source": [
        "df['action'].unique()"
      ],
      "execution_count": null,
      "outputs": [
        {
          "output_type": "execute_result",
          "data": {
            "text/plain": [
              "array(['squat', 'stand', 'pushdown', 'pushup', 'pulljerk', 'pushjerk'],\n",
              "      dtype=object)"
            ]
          },
          "metadata": {
            "tags": []
          },
          "execution_count": 11
        }
      ]
    },
    {
      "cell_type": "code",
      "metadata": {
        "colab": {
          "base_uri": "https://localhost:8080/",
          "height": 523
        },
        "id": "f42Hf0xyXLRz",
        "outputId": "dd9ac1e6-60ac-4e24-dead-d442ba049124"
      },
      "source": [
        "fig = plt.figure(figsize = (8,8))\n",
        "ax = fig.add_subplot(1,1,1) \n",
        "ax.set_xlabel('Principal Component 1', fontsize = 15)\n",
        "ax.set_ylabel('Principal Component 2', fontsize = 15)\n",
        "ax.set_title('PCA of Positions', fontsize = 20)\n",
        "targets = ['squat', 'stand', 'pushdown', 'pushup',  'pushjerk', 'pulljerk']\n",
        "colors = ['r','g', 'b', 'y', 'm', 'c']\n",
        "for target, color in zip(targets,colors):\n",
        "    if target == 'stand': continue\n",
        "    indicesToKeep = finalDf['action'] == target\n",
        "    ax.scatter(finalDf.loc[indicesToKeep, 'principal component 1']\n",
        "               , finalDf.loc[indicesToKeep, 'principal component 2']\n",
        "               , c = color\n",
        "               , alpha = 0.2)\n",
        "ax.legend(targets)\n",
        "ax.grid()"
      ],
      "execution_count": null,
      "outputs": [
        {
          "output_type": "display_data",
          "data": {
            "image/png": "[encoded data removed]",
            "text/plain": [
              "<Figure size 576x576 with 1 Axes>"
            ]
          },
          "metadata": {
            "tags": [],
            "needs_background": "light"
          }
        }
      ]
    }
  ]
}